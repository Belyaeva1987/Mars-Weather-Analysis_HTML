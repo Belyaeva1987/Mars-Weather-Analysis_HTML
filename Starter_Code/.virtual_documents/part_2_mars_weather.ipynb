


# Import relevant libraries
from splinter import Browser
from bs4 import BeautifulSoup
import matplotlib.pyplot as plt
import pandas as pd


browser = Browser('chrome')





# Visit the website
# https://static.bc-edx.com/data/web/mars_facts/temperature.html
url = "https://static.bc-edx.com/data/web/mars_facts/temperature.html"
browser.visit(url)





# Create a Beautiful Soup Object
html = browser.html
soup = BeautifulSoup(html, 'html.parser')


# Extract all rows of data
all_rows = soup.find_all('tr',class_="data-row")
print(all_rows)
                     





# Create an empty list
data_list = []
# Loop through the scraped data to create a list of rows
for row in all_rows:
    columns = row.find_all('td')
    col_text = [col.text for col in columns]
    data_list.append(col_text)
#data_list


# Create a Pandas DataFrame by using the list of rows and a list of the column names
data_list_df=pd.DataFrame(data_list)
# Add column names to the DataFrame
data_list_df.columns = ['id', 'terrestrial_date', 'sol', 'ls', 'month', 'min_temp', 'pressure']
#data_list_df.head()


# Confirm DataFrame was created successfully
data_list_df.head()





# Examine data type of each column
print(data_list_df.dtypes)


# Change data types for data analysis

data_list_df['terrestrial_date'] = pd.to_datetime(data_list_df['terrestrial_date'])
data_list_df['sol'] = data_list_df['sol'].astype('int')
data_list_df['ls'] = data_list_df['ls'].astype('int')
data_list_df['month'] = data_list_df['month'].astype('int')
data_list_df['min_temp'] = data_list_df['min_temp'].astype('float')
data_list_df['pressure'] = data_list_df['pressure'].astype('float')


#print(data_list_df.dtypes)



# Confirm type changes were successful by examining data types again
print(data_list_df.dtypes)





# 1. How many months are there on Mars?

month_counts = data_list_df['month'].value_counts().sort_index()

print(month_counts)


# 2. How many Martian days' worth of data are there?

num_rows = len(data_list_df)
num_rows


# 3. What is the average low temperature by month?
average_low_temp_by_month = data_list_df.groupby('month')['min_temp'].mean()

print(average_low_temp_by_month)


month_unique = data_list_df['month'].unique()
month_unique_sorted = sorted(month_unique)
print(month_unique_sorted)



plt.figure(figsize=(7, 6))
plt.bar(month_unique_sorted, average_low_temp_by_month, color='blue')
plt.xlabel('month')
plt.ylabel('Temperature in Celcius')
plt.xticks(month_unique_sorted)
plt.show()


average_low_temp_by_month.descending()


coldest_hottest_months= sorted(average_low_temp_by_month)
coldest_hottest_months


plt.figure(figsize=(7, 6))
plt.bar(month_unique_sorted, coldest_hottest_months, color='blue')
plt.xlabel('month')
plt.ylabel('Temperature in Celcius')
plt.xticks(month_unique_sorted)
plt.show()


# Identify the coldest and hottest months in Curiosity's location



# 4. Average pressure by Martian month



# Plot the average pressure by month



# 5. How many terrestrial (earth) days are there in a Martian year?















# Write the data to a CSV



browser.quit()



